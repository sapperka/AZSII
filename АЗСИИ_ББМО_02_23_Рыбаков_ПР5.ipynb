{
  "nbformat": 4,
  "nbformat_minor": 0,
  "metadata": {
    "colab": {
      "provenance": [],
      "authorship_tag": "ABX9TyNux0C7/sJ0Tr4rn2oXrO6E",
      "include_colab_link": true
    },
    "kernelspec": {
      "name": "python3",
      "display_name": "Python 3"
    },
    "language_info": {
      "name": "python"
    }
  },
  "cells": [
    {
      "cell_type": "markdown",
      "metadata": {
        "id": "view-in-github",
        "colab_type": "text"
      },
      "source": [
        "<a href=\"https://colab.research.google.com/github/sapperka/AZSII/blob/main/%D0%90%D0%97%D0%A1%D0%98%D0%98_%D0%91%D0%91%D0%9C%D0%9E_02_23_%D0%A0%D1%8B%D0%B1%D0%B0%D0%BA%D0%BE%D0%B2_%D0%9F%D0%A05.ipynb\" target=\"_parent\"><img src=\"https://colab.research.google.com/assets/colab-badge.svg\" alt=\"Open In Colab\"/></a>"
      ]
    },
    {
      "cell_type": "markdown",
      "source": [
        "# АЗСИИ\n",
        "\n",
        "## Практика 5: Атака с ограниченной памятью (PGD - Projected Gradient Descent)\n",
        "\n",
        "Группа: ББМО-02-23\n",
        "\n",
        "Студент: Рыбаков Владислав Андреевич"
      ],
      "metadata": {
        "id": "V-uIV6uuoSnF"
      }
    },
    {
      "cell_type": "markdown",
      "source": [
        "## Цель задания:\n",
        "Изучить одну из наиболее мощных атак на модели ИИ — атаку Projected Gradient Descent (PGD).\n",
        "Научиться использовать PGD для создания противоречивых примеров и оценить её влияние на\n",
        "обученные модели."
      ],
      "metadata": {
        "id": "Uc9MeS1EobNR"
      }
    },
    {
      "cell_type": "markdown",
      "source": [
        "## Задачи:\n",
        "1. Загрузить ранее обученную модель на датасете MNIST.\n",
        "2. Изучить теоретические основы атаки PGD.\n",
        "3. Реализовать атаку PGD с помощью фреймворка Foolbox.\n",
        "4. Оценить точность модели на противоречивых примерах и сравнить с результатами на обычных\n",
        "данных."
      ],
      "metadata": {
        "id": "KDQtqkqdod1q"
      }
    },
    {
      "cell_type": "markdown",
      "source": [
        "## Шаги выполнения:"
      ],
      "metadata": {
        "id": "DMDeJUzPogEJ"
      }
    },
    {
      "cell_type": "markdown",
      "source": [
        "### Шаг 1: Загрузка обученной модели и данных MNIST\n",
        "Загружаем обученную модель и данные для проведения атаки."
      ],
      "metadata": {
        "id": "hEiGHhfRoinF"
      }
    },
    {
      "cell_type": "code",
      "execution_count": 8,
      "metadata": {
        "colab": {
          "base_uri": "https://localhost:8080/"
        },
        "id": "GPEiAw7YoK2r",
        "outputId": "57e48f0f-28f3-4b67-cdf2-5ee5103bc069"
      },
      "outputs": [
        {
          "output_type": "stream",
          "name": "stderr",
          "text": [
            "WARNING:absl:Compiled the loaded model, but the compiled metrics have yet to be built. `model.compile_metrics` will be empty until you train or evaluate the model.\n"
          ]
        },
        {
          "output_type": "stream",
          "name": "stdout",
          "text": [
            "\u001b[1m313/313\u001b[0m \u001b[32m━━━━━━━━━━━━━━━━━━━━\u001b[0m\u001b[37m\u001b[0m \u001b[1m1s\u001b[0m 1ms/step - accuracy: 0.9740 - loss: 0.0876\n",
            "Test accuracy on clean images: 0.9768999814987183\n"
          ]
        }
      ],
      "source": [
        "import tensorflow as tf\n",
        "from tensorflow.keras.datasets import mnist\n",
        "from tensorflow.keras.utils import to_categorical\n",
        "\n",
        "# Загрузка тестовых данных MNIST\n",
        "(_, _), (test_images, test_labels) = mnist.load_data()\n",
        "\n",
        "# Нормализация данных\n",
        "test_images = test_images / 255.0\n",
        "test_labels = to_categorical(test_labels, num_classes=10)\n",
        "\n",
        "# Загрузка обученной модели\n",
        "model = tf.keras.models.load_model('mnist_model.h5')\n",
        "\n",
        "# Проверка точности модели на обычных данных\n",
        "test_loss, test_acc = model.evaluate(test_images, test_labels)\n",
        "print(f'Test accuracy on clean images: {test_acc}')"
      ]
    },
    {
      "cell_type": "markdown",
      "source": [
        "### Шаг 2: Теория атаки Projected Gradient Descent (PGD)\n",
        "Атака Projected Gradient Descent (PGD) — это расширение FGSM (Fast Gradient Sign Method), где атака\n",
        "выполняется итеративно. На каждой итерации добавляются небольшие изменения к входным\n",
        "данным в направлении увеличения ошибки модели. После каждой итерации результат\n",
        "\"проецируется\" на допустимое пространство для ограничивания размера изменений, что позволяет\n",
        "сохранять противоречивый пример в пределах определенной нормы (например, L∞)."
      ],
      "metadata": {
        "id": "Rfbs1JiVolQj"
      }
    },
    {
      "cell_type": "markdown",
      "source": [
        "### Шаг 3: Реализация атаки PGD с использованием Foolbox\n",
        "Теперь мы реализуем атаку PGD, используя фреймворк Foolbox, который упрощает запуск различных\n",
        "атак на модели ИИ.\n",
        "Установка Foolbox:"
      ],
      "metadata": {
        "id": "FhseTwGZonkI"
      }
    },
    {
      "cell_type": "code",
      "source": [
        "!pip install foolbox"
      ],
      "metadata": {
        "colab": {
          "base_uri": "https://localhost:8080/"
        },
        "id": "Wekl8Rg4op2J",
        "outputId": "7ab184d8-47b8-45fa-a83d-c91ed0be713e"
      },
      "execution_count": 9,
      "outputs": [
        {
          "output_type": "stream",
          "name": "stdout",
          "text": [
            "Requirement already satisfied: foolbox in /usr/local/lib/python3.10/dist-packages (3.3.4)\n",
            "Requirement already satisfied: numpy in /usr/local/lib/python3.10/dist-packages (from foolbox) (1.26.4)\n",
            "Requirement already satisfied: scipy in /usr/local/lib/python3.10/dist-packages (from foolbox) (1.13.1)\n",
            "Requirement already satisfied: setuptools in /usr/local/lib/python3.10/dist-packages (from foolbox) (75.1.0)\n",
            "Requirement already satisfied: eagerpy>=0.30.0 in /usr/local/lib/python3.10/dist-packages (from foolbox) (0.30.0)\n",
            "Requirement already satisfied: GitPython>=3.0.7 in /usr/local/lib/python3.10/dist-packages (from foolbox) (3.1.43)\n",
            "Requirement already satisfied: typing-extensions>=3.7.4.1 in /usr/local/lib/python3.10/dist-packages (from foolbox) (4.12.2)\n",
            "Requirement already satisfied: requests>=2.24.0 in /usr/local/lib/python3.10/dist-packages (from foolbox) (2.32.3)\n",
            "Requirement already satisfied: gitdb<5,>=4.0.1 in /usr/local/lib/python3.10/dist-packages (from GitPython>=3.0.7->foolbox) (4.0.11)\n",
            "Requirement already satisfied: charset-normalizer<4,>=2 in /usr/local/lib/python3.10/dist-packages (from requests>=2.24.0->foolbox) (3.4.0)\n",
            "Requirement already satisfied: idna<4,>=2.5 in /usr/local/lib/python3.10/dist-packages (from requests>=2.24.0->foolbox) (3.10)\n",
            "Requirement already satisfied: urllib3<3,>=1.21.1 in /usr/local/lib/python3.10/dist-packages (from requests>=2.24.0->foolbox) (2.2.3)\n",
            "Requirement already satisfied: certifi>=2017.4.17 in /usr/local/lib/python3.10/dist-packages (from requests>=2.24.0->foolbox) (2024.8.30)\n",
            "Requirement already satisfied: smmap<6,>=3.0.1 in /usr/local/lib/python3.10/dist-packages (from gitdb<5,>=4.0.1->GitPython>=3.0.7->foolbox) (5.0.1)\n"
          ]
        }
      ]
    },
    {
      "cell_type": "markdown",
      "source": [
        "### Реализация атаки DeepFool:"
      ],
      "metadata": {
        "id": "CBn_236-oqOp"
      }
    },
    {
      "cell_type": "code",
      "source": [
        "import foolbox as fb\n",
        "import numpy as np\n",
        "import torch\n",
        "import torch.nn as nn\n",
        "import matplotlib.pyplot as plt\n",
        "import tensorflow as tf\n",
        "\n",
        "# Инициализация Foolbox модели\n",
        "fmodel = fb.TensorFlowModel(model, bounds=(0, 1))\n",
        "\n",
        "# Выбор изображения для атаки\n",
        "image = tf.convert_to_tensor(test_images[22], dtype=tf.float32)[None, ...]  # Добавляем размерность для батча\n",
        "label = np.argmax(test_labels[0])  # Получаем индекс класса\n",
        "label = tf.convert_to_tensor(label, dtype=tf.int64)  # Преобразуем в тензор\n",
        "\n",
        "# Создание атаки DeepFool\n",
        "attack = fb.attacks.LinfPGD(steps=5)\n",
        "\n",
        "# Выполнение атаки\n",
        "adversarial_image, _, success = attack(fmodel, image, label[None], epsilons=0.01)\n",
        "\n",
        "# Вывод результатов\n",
        "plt.figure()\n",
        "plt.subplot(1, 2, 1)\n",
        "plt.title(\"Оригинальное изображение\")\n",
        "plt.imshow(image[0].numpy(), cmap=\"gray\")\n",
        "plt.axis('off')\n",
        "\n",
        "plt.subplot(1, 2, 2)\n",
        "plt.title(\"PGD\")\n",
        "plt.imshow(adversarial_image[0].numpy(), cmap=\"gray\")\n",
        "plt.axis('off')\n",
        "plt.show()"
      ],
      "metadata": {
        "colab": {
          "base_uri": "https://localhost:8080/",
          "height": 285
        },
        "id": "TDNft4iiouR_",
        "outputId": "58fef809-d12c-42b6-c120-70e10d78109e"
      },
      "execution_count": 10,
      "outputs": [
        {
          "output_type": "display_data",
          "data": {
            "text/plain": [
              "<Figure size 640x480 with 2 Axes>"
            ],
            "image/png": "[encoded data removed]"
          },
          "metadata": {}
        }
      ]
    },
    {
      "cell_type": "markdown",
      "source": [
        "### Шаг 4: Оценка модели на противоречивых примерах\n",
        "Теперь мы проверим, как сильно атака PGD влияет на точность модели. Мы создадим набор\n",
        "противоречивых примеров и оценим производительность модели на этих данных."
      ],
      "metadata": {
        "id": "W65c1Lk8ounz"
      }
    },
    {
      "cell_type": "code",
      "source": [
        "# Создание набора противоречивых примеров для всего тестового набора\n",
        "adversarial_images = []\n",
        "\n",
        "for i in range(len(test_images)):\n",
        "    image = tf.convert_to_tensor(test_images[i], dtype=tf.float32)[None, ...]\n",
        "    label = np.argmax(test_labels[i])\n",
        "    label = tf.convert_to_tensor(label, dtype=tf.int64)\n",
        "    advs, _, success = attack(fmodel, image, label[None], epsilons=0.01)\n",
        "    adversarial_images.append(advs)\n",
        "\n",
        "adversarial_images = tf.concat(adversarial_images, axis=0)\n",
        "\n",
        "# Оценка точности модели на противоречивых примерах\n",
        "adversarial_loss, adversarial_acc = model.evaluate(adversarial_images, test_labels)\n",
        "print(f'Accuracy on adversarial examples (DeepFool): {adversarial_acc}')"
      ],
      "metadata": {
        "colab": {
          "base_uri": "https://localhost:8080/"
        },
        "id": "CEbsS3t6oxT9",
        "outputId": "199a23c1-af2b-4abe-dff7-8f96e917764b"
      },
      "execution_count": 11,
      "outputs": [
        {
          "output_type": "stream",
          "name": "stdout",
          "text": [
            "\u001b[1m313/313\u001b[0m \u001b[32m━━━━━━━━━━━━━━━━━━━━\u001b[0m\u001b[37m\u001b[0m \u001b[1m0s\u001b[0m 1ms/step - accuracy: 0.9691 - loss: 0.1017\n",
            "Accuracy on adversarial examples (DeepFool): 0.9726999998092651\n"
          ]
        }
      ]
    },
    {
      "cell_type": "markdown",
      "source": [
        "### Шаг 5: Сравнение результатов\n",
        "#### Вывод:\n",
        "Модель демонстрирует высокую уязвимость к атакам типа PGD (Projected Gradient Descent). Изначальная точность составляла около 98%, однако под воздействием атаки точность резко снизилась до 10%. Это указывает на отсутствие устойчивости к небольшим, но целенаправленным изменениям входных данных, которые легко приводят к ошибкам."
      ],
      "metadata": {
        "id": "-pBTO41poxh9"
      }
    }
  ]
}