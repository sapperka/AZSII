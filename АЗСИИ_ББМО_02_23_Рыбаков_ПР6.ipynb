{
  "nbformat": 4,
  "nbformat_minor": 0,
  "metadata": {
    "colab": {
      "provenance": [],
      "authorship_tag": "ABX9TyN/vvbOX/lF5xaKo8Z0LjmG",
      "include_colab_link": true
    },
    "kernelspec": {
      "name": "python3",
      "display_name": "Python 3"
    },
    "language_info": {
      "name": "python"
    }
  },
  "cells": [
    {
      "cell_type": "markdown",
      "metadata": {
        "id": "view-in-github",
        "colab_type": "text"
      },
      "source": [
        "<a href=\"https://colab.research.google.com/github/sapperka/AZSII/blob/main/%D0%90%D0%97%D0%A1%D0%98%D0%98_%D0%91%D0%91%D0%9C%D0%9E_02_23_%D0%A0%D1%8B%D0%B1%D0%B0%D0%BA%D0%BE%D0%B2_%D0%9F%D0%A06.ipynb\" target=\"_parent\"><img src=\"https://colab.research.google.com/assets/colab-badge.svg\" alt=\"Open In Colab\"/></a>"
      ]
    },
    {
      "cell_type": "markdown",
      "source": [
        "# АЗСИИ\n",
        "\n",
        "## Практика 6: Атака по переносу (Transfer Attack) на модели ИИ\n",
        "\n",
        "Группа: ББМО-02-23\n",
        "\n",
        "Студент: Рыбаков Владислав Андреевич"
      ],
      "metadata": {
        "id": "CzqnJMSqmX2t"
      }
    },
    {
      "cell_type": "markdown",
      "source": [
        "## Цель задания:\n",
        "Изучить концепцию атаки по переносу, где противоречивые примеры, созданные для одной модели,\n",
        "используются для атаки на другую модель. Это задание требует создания нескольких моделей,\n",
        "генерации противоречивых примеров для одной модели и проверки их на другой модели."
      ],
      "metadata": {
        "id": "XfbrWg4JnAO_"
      }
    },
    {
      "cell_type": "markdown",
      "source": [
        "## Задачи:\n",
        "1. Загрузить несколько моделей, обученных на датасете MNIST.\n",
        "2. Изучить теоретические основы атаки по переносу.\n",
        "3. Реализовать атаку FGSM на одну модель и проверить, как противоречивые примеры влияют на другую модель.\n",
        "4. Оценить точность обеих моделей на противоречивых примерах и проанализировать\n",
        "переносимость атак."
      ],
      "metadata": {
        "id": "xQ5AkBVgnFUK"
      }
    },
    {
      "cell_type": "markdown",
      "source": [
        "## Шаги выполнения:"
      ],
      "metadata": {
        "id": "y68Iu1LUnQGy"
      }
    },
    {
      "cell_type": "markdown",
      "source": [
        "### Шаг 1: Загрузка и создание двух различных моделей"
      ],
      "metadata": {
        "id": "OmHXjWsvnSjX"
      }
    },
    {
      "cell_type": "code",
      "execution_count": 2,
      "metadata": {
        "colab": {
          "base_uri": "https://localhost:8080/"
        },
        "id": "h_xwIEpDmV0C",
        "outputId": "684d313d-a336-4d4a-86a5-f18b3ff86017"
      },
      "outputs": [
        {
          "output_type": "stream",
          "name": "stdout",
          "text": [
            "Downloading data from https://storage.googleapis.com/tensorflow/tf-keras-datasets/mnist.npz\n",
            "\u001b[1m11490434/11490434\u001b[0m \u001b[32m━━━━━━━━━━━━━━━━━━━━\u001b[0m\u001b[37m\u001b[0m \u001b[1m0s\u001b[0m 0us/step\n"
          ]
        }
      ],
      "source": [
        "import tensorflow as tf\n",
        "from tensorflow.keras.datasets import mnist\n",
        "from tensorflow.keras.models import Sequential\n",
        "from tensorflow.keras.layers import Dense, Flatten, Conv2D, MaxPooling2D\n",
        "from tensorflow.keras.utils import to_categorical\n",
        "# Загрузка данных MNIST\n",
        "(train_images, train_labels), (test_images, test_labels) = mnist.load_data()\n",
        "# Нормализация данных\n",
        "train_images = train_images / 255.0\n",
        "test_images = test_images / 255.0\n",
        "# Преобразование меток в one-hot encoding\n",
        "train_labels = to_categorical(train_labels)\n",
        "test_labels = to_categorical(test_labels)"
      ]
    },
    {
      "cell_type": "code",
      "source": [
        "# Модель 1: Простая полносвязная нейронная сеть\n",
        "model1 = Sequential([\n",
        "  Flatten(input_shape=(28, 28)),\n",
        "  Dense(128, activation='relu'),\n",
        "  Dense(10, activation='softmax')\n",
        "])\n",
        "# Компиляция модели\n",
        "model1.compile(optimizer='adam', loss='categorical_crossentropy', metrics= ['accuracy'])\n",
        "# Обучение модели\n",
        "model1.fit(train_images, train_labels, epochs=5)\n",
        "# Сохранение модели\n",
        "model1.save('mnist_model1.h5')"
      ],
      "metadata": {
        "colab": {
          "base_uri": "https://localhost:8080/"
        },
        "id": "rjJ0Ha8S_C9d",
        "outputId": "2d9ff027-bc2c-4b72-eea4-8796769e2561"
      },
      "execution_count": 3,
      "outputs": [
        {
          "output_type": "stream",
          "name": "stderr",
          "text": [
            "/usr/local/lib/python3.10/dist-packages/keras/src/layers/reshaping/flatten.py:37: UserWarning: Do not pass an `input_shape`/`input_dim` argument to a layer. When using Sequential models, prefer using an `Input(shape)` object as the first layer in the model instead.\n",
            "  super().__init__(**kwargs)\n"
          ]
        },
        {
          "output_type": "stream",
          "name": "stdout",
          "text": [
            "Epoch 1/5\n",
            "\u001b[1m1875/1875\u001b[0m \u001b[32m━━━━━━━━━━━━━━━━━━━━\u001b[0m\u001b[37m\u001b[0m \u001b[1m7s\u001b[0m 3ms/step - accuracy: 0.8776 - loss: 0.4321\n",
            "Epoch 2/5\n",
            "\u001b[1m1875/1875\u001b[0m \u001b[32m━━━━━━━━━━━━━━━━━━━━\u001b[0m\u001b[37m\u001b[0m \u001b[1m9s\u001b[0m 2ms/step - accuracy: 0.9658 - loss: 0.1197\n",
            "Epoch 3/5\n",
            "\u001b[1m1875/1875\u001b[0m \u001b[32m━━━━━━━━━━━━━━━━━━━━\u001b[0m\u001b[37m\u001b[0m \u001b[1m6s\u001b[0m 3ms/step - accuracy: 0.9763 - loss: 0.0792\n",
            "Epoch 4/5\n",
            "\u001b[1m1875/1875\u001b[0m \u001b[32m━━━━━━━━━━━━━━━━━━━━\u001b[0m\u001b[37m\u001b[0m \u001b[1m9s\u001b[0m 3ms/step - accuracy: 0.9841 - loss: 0.0534\n",
            "Epoch 5/5\n",
            "\u001b[1m1875/1875\u001b[0m \u001b[32m━━━━━━━━━━━━━━━━━━━━\u001b[0m\u001b[37m\u001b[0m \u001b[1m7s\u001b[0m 4ms/step - accuracy: 0.9875 - loss: 0.0409\n"
          ]
        },
        {
          "output_type": "stream",
          "name": "stderr",
          "text": [
            "WARNING:absl:You are saving your model as an HDF5 file via `model.save()` or `keras.saving.save_model(model)`. This file format is considered legacy. We recommend using instead the native Keras format, e.g. `model.save('my_model.keras')` or `keras.saving.save_model(model, 'my_model.keras')`. \n"
          ]
        }
      ]
    },
    {
      "cell_type": "code",
      "source": [
        "# Модель 2: Свёрточная нейронная сеть (CNN)\n",
        "model2 = Sequential([\n",
        "  Conv2D(32, (3, 3), activation='relu', input_shape=(28, 28, 1)),\n",
        "  MaxPooling2D((2, 2)),\n",
        "  Flatten(),\n",
        "  Dense(128, activation='relu'),\n",
        "  Dense(10, activation='softmax')\n",
        "])\n",
        "# Компиляция модели\n",
        "model2.compile(optimizer='adam', loss='categorical_crossentropy', metrics=\n",
        "['accuracy'])\n",
        "# Обучение модели\n",
        "model2.fit(train_images.reshape(-1, 28, 28, 1), train_labels, epochs=5)\n",
        "# Сохранение модели\n",
        "model2.save('mnist_model2.h5')"
      ],
      "metadata": {
        "colab": {
          "base_uri": "https://localhost:8080/"
        },
        "id": "2j5LR9mR_HQN",
        "outputId": "18c49928-a172-49d9-bb69-09ea2a1cba05"
      },
      "execution_count": 4,
      "outputs": [
        {
          "output_type": "stream",
          "name": "stderr",
          "text": [
            "/usr/local/lib/python3.10/dist-packages/keras/src/layers/convolutional/base_conv.py:107: UserWarning: Do not pass an `input_shape`/`input_dim` argument to a layer. When using Sequential models, prefer using an `Input(shape)` object as the first layer in the model instead.\n",
            "  super().__init__(activity_regularizer=activity_regularizer, **kwargs)\n"
          ]
        },
        {
          "output_type": "stream",
          "name": "stdout",
          "text": [
            "Epoch 1/5\n",
            "\u001b[1m1875/1875\u001b[0m \u001b[32m━━━━━━━━━━━━━━━━━━━━\u001b[0m\u001b[37m\u001b[0m \u001b[1m42s\u001b[0m 22ms/step - accuracy: 0.9089 - loss: 0.3004\n",
            "Epoch 2/5\n",
            "\u001b[1m1875/1875\u001b[0m \u001b[32m━━━━━━━━━━━━━━━━━━━━\u001b[0m\u001b[37m\u001b[0m \u001b[1m79s\u001b[0m 21ms/step - accuracy: 0.9828 - loss: 0.0538\n",
            "Epoch 3/5\n",
            "\u001b[1m1875/1875\u001b[0m \u001b[32m━━━━━━━━━━━━━━━━━━━━\u001b[0m\u001b[37m\u001b[0m \u001b[1m41s\u001b[0m 20ms/step - accuracy: 0.9910 - loss: 0.0300\n",
            "Epoch 4/5\n",
            "\u001b[1m1875/1875\u001b[0m \u001b[32m━━━━━━━━━━━━━━━━━━━━\u001b[0m\u001b[37m\u001b[0m \u001b[1m40s\u001b[0m 20ms/step - accuracy: 0.9939 - loss: 0.0206\n",
            "Epoch 5/5\n",
            "\u001b[1m1875/1875\u001b[0m \u001b[32m━━━━━━━━━━━━━━━━━━━━\u001b[0m\u001b[37m\u001b[0m \u001b[1m40s\u001b[0m 20ms/step - accuracy: 0.9950 - loss: 0.0142\n"
          ]
        },
        {
          "output_type": "stream",
          "name": "stderr",
          "text": [
            "WARNING:absl:You are saving your model as an HDF5 file via `model.save()` or `keras.saving.save_model(model)`. This file format is considered legacy. We recommend using instead the native Keras format, e.g. `model.save('my_model.keras')` or `keras.saving.save_model(model, 'my_model.keras')`. \n"
          ]
        }
      ]
    },
    {
      "cell_type": "markdown",
      "source": [],
      "metadata": {
        "id": "YcTWTUpTmXTo"
      }
    },
    {
      "cell_type": "markdown",
      "source": [
        "### Шаг 2: Теория атаки по переносу\n",
        "\n",
        "Атака по переносу — это метод, при котором противоречивые примеры, созданные для одной\n",
        "модели, применяются к другой модели. Это возможно, потому что модели часто имеют схожие\n",
        "слабости и могут совершать одинаковые ошибки на определенных данных, даже если они обучены\n",
        "на разных архитектурах.\n",
        "\n",
        "В этом задании мы создадим противоречивые примеры для первой модели с помощью FGSM и\n",
        "затем проверим, насколько эти примеры могут атаковать вторую модель."
      ],
      "metadata": {
        "id": "50jWlIZtnVNx"
      }
    },
    {
      "cell_type": "markdown",
      "source": [
        "### Шаг 3: Реализация атаки FGSM на первую модель"
      ],
      "metadata": {
        "id": "Ijjhp83-nbjC"
      }
    },
    {
      "cell_type": "code",
      "source": [
        "import numpy as np\n",
        "# Функция FGSM атаки\n",
        "def fgsm_attack(image, epsilon, gradient):\n",
        "  # Применение знака градиента к изображению\n",
        "  perturbed_image = image + epsilon * np.sign(gradient)\n",
        "  perturbed_image = np.clip(perturbed_image, 0, 1) # Убедиться, что значения остаются в пределах [0, 1]\n",
        "  return perturbed_image\n",
        "\n",
        "# Генерация противоречивых примеров для первой модели\n",
        "def generate_fgsm_adversarial(model, images, labels, epsilon):\n",
        "    adversarial_images = []\n",
        "    for i in range(len(images)):\n",
        "        image = tf.convert_to_tensor(images[i].reshape((1, 28, 28, 1)))\n",
        "        label = labels[i]\n",
        "\n",
        "        # Вычисление градиента\n",
        "        if len(label.shape) > 1 and label.shape[1] > 1:\n",
        "            label = np.argmax(label)\n",
        "        label = tf.convert_to_tensor(label)\n",
        "        with tf.GradientTape() as tape:\n",
        "            tape.watch(image)\n",
        "            prediction = model(image)\n",
        "            loss = tf.keras.losses.categorical_crossentropy(label[None], prediction)\n",
        "        gradient = tape.gradient(loss, image)\n",
        "        # Применяем FGSM:\n",
        "        adversarial_image = fgsm_attack(image.numpy(), epsilon, gradient.numpy())\n",
        "        adversarial_images.append(np.reshape(adversarial_image, (28, 28, 1)))  # Сохраняем результат в массив\n",
        "    return np.array(adversarial_images)\n",
        "\n",
        "# Генерация противоречивых примеров для первой модели\n",
        "epsilon = 0.1\n",
        "adversarial_images_model1 = generate_fgsm_adversarial(model1, test_images, test_labels, epsilon)"
      ],
      "metadata": {
        "id": "9XgsJ3Bxndrx"
      },
      "execution_count": 14,
      "outputs": []
    },
    {
      "cell_type": "markdown",
      "source": [
        "### Шаг 4: Оценка противоречивых примеров на обеих моделях"
      ],
      "metadata": {
        "id": "Cb84O4QWneHL"
      }
    },
    {
      "cell_type": "code",
      "source": [
        "# Оценка первой модели на противоречивых примерах\n",
        "test_labels_argmax = np.argmax(test_labels, axis=1) # Преобразование onehot меток в целые числа\n",
        "loss1, acc1 = model1.evaluate(adversarial_images_model1, test_labels)\n",
        "print(f'Accuracy of model1 on adversarial examples: {acc1}')\n",
        "# Оценка второй модели на противоречивых примерах (перенос атаки)\n",
        "adversarial_images_model1_reshaped = adversarial_images_model1.reshape(-1, 28, 28, 1)\n",
        "loss2, acc2 = model2.evaluate(adversarial_images_model1_reshaped, test_labels)\n",
        "print(f'Accuracy of model2 on adversarial examples from model1: {acc2}')"
      ],
      "metadata": {
        "colab": {
          "base_uri": "https://localhost:8080/"
        },
        "id": "J_zzomkenhbE",
        "outputId": "efa3a908-a41a-4bff-e224-e8c3af8be0ac"
      },
      "execution_count": 15,
      "outputs": [
        {
          "output_type": "stream",
          "name": "stdout",
          "text": [
            "\u001b[1m313/313\u001b[0m \u001b[32m━━━━━━━━━━━━━━━━━━━━\u001b[0m\u001b[37m\u001b[0m \u001b[1m1s\u001b[0m 2ms/step - accuracy: 0.0709 - loss: 6.5701\n",
            "Accuracy of model1 on adversarial examples: 0.09459999948740005\n",
            "\u001b[1m313/313\u001b[0m \u001b[32m━━━━━━━━━━━━━━━━━━━━\u001b[0m\u001b[37m\u001b[0m \u001b[1m2s\u001b[0m 7ms/step - accuracy: 0.9594 - loss: 0.1510\n",
            "Accuracy of model2 on adversarial examples from model1: 0.9642999768257141\n"
          ]
        }
      ]
    },
    {
      "cell_type": "markdown",
      "source": [
        "### Шаг 5: Анализ переносимости атак"
      ],
      "metadata": {
        "id": "QhJJViVQnhoI"
      }
    },
    {
      "cell_type": "code",
      "source": [
        "# Генерация противоречивых примеров для второй модели\n",
        "adversarial_images_model2 = generate_fgsm_adversarial(model2, test_images, test_labels, epsilon)\n",
        "\n",
        "# Оценка второй модели на собственных противоречивых примерах\n",
        "loss2_self, acc2_self = model2.evaluate(adversarial_images_model2, test_labels)\n",
        "print(f'Accuracy of model2 on its own adversarial examples: {acc2_self}')\n",
        "\n",
        "# Оценка первой модели на противоречивых примерах второй модели (перенос атаки)\n",
        "adversarial_images_model2_reshaped = adversarial_images_model2.reshape(-1, 28, 28, 1)\n",
        "loss1_transfer, acc1_transfer = model1.evaluate(adversarial_images_model2_reshaped, test_labels)\n",
        "print(f'Accuracy of model1 on adversarial examples from model2: {acc1_transfer}')\n",
        "\n",
        "# Оценка уязвимости и предложения\n",
        "if acc2_self < acc1_transfer:\n",
        "    print(\"Model2 is more vulnerable to FGSM attack on its own data compared to model1 under transfer attack.\")\n",
        "else:\n",
        "    print(\"Model1 is more vulnerable under transfer attack from model2.\")"
      ],
      "metadata": {
        "colab": {
          "base_uri": "https://localhost:8080/"
        },
        "id": "yByBAXCYnkc7",
        "outputId": "5c72a1cb-2384-4fe7-a2e5-ab8f9387fbe1"
      },
      "execution_count": 16,
      "outputs": [
        {
          "output_type": "stream",
          "name": "stdout",
          "text": [
            "\u001b[1m313/313\u001b[0m \u001b[32m━━━━━━━━━━━━━━━━━━━━\u001b[0m\u001b[37m\u001b[0m \u001b[1m2s\u001b[0m 5ms/step - accuracy: 0.6097 - loss: 1.7007\n",
            "Accuracy of model2 on its own adversarial examples: 0.626800000667572\n",
            "\u001b[1m313/313\u001b[0m \u001b[32m━━━━━━━━━━━━━━━━━━━━\u001b[0m\u001b[37m\u001b[0m \u001b[1m0s\u001b[0m 1ms/step - accuracy: 0.9222 - loss: 0.2499\n",
            "Accuracy of model1 on adversarial examples from model2: 0.9336000084877014\n",
            "Model2 is more vulnerable to FGSM attack on its own data compared to model1 under transfer attack.\n"
          ]
        }
      ]
    },
    {
      "cell_type": "markdown",
      "source": [
        "#### Вывод:\n",
        "Атака FGSM оказала заметное влияние на точность модели 2, которая снизилась до 62.7% на собственных противоречивых примерах. Однако атака по переносу на модель 1 оказалась менее эффективной, и модель 1 сохранила высокую точность 93.4%. Это указывает на то, что модель 2 более уязвима к FGSM-атакам на свои данные, а модель 1 демонстрирует лучшую устойчивость к атакам по переносу. Для усиления защиты модели 2 целесообразно внедрить adversarial training и дополнительные методы регуляризации, чтобы уменьшить её восприимчивость к атакам."
      ],
      "metadata": {
        "id": "2bYBX4aRP4R4"
      }
    }
  ]
}