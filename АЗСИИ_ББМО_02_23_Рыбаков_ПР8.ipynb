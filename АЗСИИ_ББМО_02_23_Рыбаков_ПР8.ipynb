{
  "nbformat": 4,
  "nbformat_minor": 0,
  "metadata": {
    "colab": {
      "provenance": [],
      "authorship_tag": "ABX9TyOls47+xOD/Y7NTZ8f0q8FN",
      "include_colab_link": true
    },
    "kernelspec": {
      "name": "python3",
      "display_name": "Python 3"
    },
    "language_info": {
      "name": "python"
    }
  },
  "cells": [
    {
      "cell_type": "markdown",
      "metadata": {
        "id": "view-in-github",
        "colab_type": "text"
      },
      "source": [
        "<a href=\"https://colab.research.google.com/github/sapperka/AZSII/blob/main/%D0%90%D0%97%D0%A1%D0%98%D0%98_%D0%91%D0%91%D0%9C%D0%9E_02_23_%D0%A0%D1%8B%D0%B1%D0%B0%D0%BA%D0%BE%D0%B2_%D0%9F%D0%A08.ipynb\" target=\"_parent\"><img src=\"https://colab.research.google.com/assets/colab-badge.svg\" alt=\"Open In Colab\"/></a>"
      ]
    },
    {
      "cell_type": "markdown",
      "source": [
        "# АЗСИИ\n",
        "\n",
        "## Практика 8: Методы защиты от атак на модели ИИ\n",
        "\n",
        "Группа: ББМО-02-23\n",
        "\n",
        "Студент: Рыбаков Владислав Андреевич"
      ],
      "metadata": {
        "id": "KZ3mv1v2h0Fc"
      }
    },
    {
      "cell_type": "markdown",
      "source": [
        "## Цель задания:\n",
        "Изучить методы защиты моделей ИИ от различных атак, включая методы защиты на уровне данных,\n",
        "моделирования и обучения. Реализовать эти методы и проверить их эффективность против атак,\n",
        "изученных ранее."
      ],
      "metadata": {
        "id": "NN4rAZ3qiGs7"
      }
    },
    {
      "cell_type": "markdown",
      "source": [
        "## Задачи:\n",
        "1. Изучить и реализовать защиту модели с помощью тренировок на противоречивых примерах\n",
        "(Adversarial Training).\n",
        "2. Реализовать метод защиты на основе градиентной маскировки.\n",
        "3. Использовать регуляризацию и нормализацию для повышения устойчивости модели.\n",
        "4. Проверить эффективность методов защиты против атак FGSM, PGD и GAN-based атак.\n",
        "5. Оценить улучшение точности защищенной модели на противоречивых примерах."
      ],
      "metadata": {
        "id": "5GFMM4o6iJaL"
      }
    },
    {
      "cell_type": "markdown",
      "source": [
        "## Шаги выполнения:"
      ],
      "metadata": {
        "id": "EN2vltB2iLxZ"
      }
    },
    {
      "cell_type": "markdown",
      "source": [
        "### Шаг 1: Защита с помощью Adversarial Training\n",
        "Adversarial Training — это метод защиты, который заключается в том, чтобы обучать модель на\n",
        "противоречивых примерах. Этот метод помогает модели научиться быть более устойчивой к атакам,\n",
        "так как она сталкивается с противоречивыми примерами на этапе обучения."
      ],
      "metadata": {
        "id": "MRrsQXU8iNZj"
      }
    },
    {
      "cell_type": "code",
      "execution_count": 11,
      "metadata": {
        "colab": {
          "base_uri": "https://localhost:8080/"
        },
        "id": "dBR5M_GDhyEz",
        "outputId": "458cd512-c0f7-4db7-aae2-2139aa2a935f"
      },
      "outputs": [
        {
          "output_type": "stream",
          "name": "stderr",
          "text": [
            "WARNING:absl:You are saving your model as an HDF5 file via `model.save()` or `keras.saving.save_model(model)`. This file format is considered legacy. We recommend using instead the native Keras format, e.g. `model.save('my_model.keras')` or `keras.saving.save_model(model, 'my_model.keras')`. \n"
          ]
        }
      ],
      "source": [
        "import tensorflow as tf\n",
        "import numpy as np\n",
        "from tensorflow.keras.datasets import mnist\n",
        "\n",
        "# Загрузка данных MNIST\n",
        "(train_images, train_labels), (test_images, test_labels) = mnist.load_data()\n",
        "\n",
        "# Нормализация данных\n",
        "train_images = train_images / 255.0\n",
        "test_images = test_images / 255.0\n",
        "\n",
        "# Преобразование меток в one-hot encoding\n",
        "train_labels = tf.keras.utils.to_categorical(train_labels, 10)\n",
        "test_labels = tf.keras.utils.to_categorical(test_labels, 10)\n",
        "\n",
        "# Уменьшаем количество обучающих изображений до 1000:\n",
        "train_images = train_images[:1000]\n",
        "train_labels = train_labels[:1000]\n",
        "\n",
        "# Функция FGSM атаки\n",
        "def fgsm_attack(image, epsilon, gradient):\n",
        "  perturbation = epsilon * np.sign(gradient)\n",
        "  adversarial_image = image + perturbation\n",
        "  adversarial_image = np.clip(adversarial_image, 0, 1)\n",
        "  return adversarial_image\n",
        "\n",
        "# Функция для генерации противоречивых примеров:\n",
        "def generate_adversarial_examples(model, images, labels, epsilon):\n",
        "    adversarial_images = []\n",
        "    for i in range(len(images)):\n",
        "        image = tf.convert_to_tensor(images[i].reshape((1, 28, 28, 1)), dtype=tf.float32)\n",
        "        label = tf.convert_to_tensor(labels[i].reshape((1, 10)), dtype=tf.float32)\n",
        "\n",
        "        with tf.GradientTape() as tape:\n",
        "            tape.watch(image)\n",
        "            prediction = model(image)\n",
        "            loss = tf.keras.losses.categorical_crossentropy(label, prediction)\n",
        "        gradient = tape.gradient(loss, image)\n",
        "        adversarial_image = fgsm_attack(image.numpy(), epsilon, gradient.numpy())\n",
        "        adversarial_images.append(adversarial_image.reshape(28, 28))\n",
        "\n",
        "    return np.array(adversarial_images)\n",
        "\n",
        "# Создание модели\n",
        "def create_model():\n",
        "  model = tf.keras.Sequential([\n",
        "  tf.keras.layers.Flatten(input_shape=(28, 28)),\n",
        "  tf.keras.layers.Dense(128, activation='relu'),\n",
        "  tf.keras.layers.Dense(10, activation='softmax')\n",
        "  ])\n",
        "  model.compile(optimizer='adam', loss='categorical_crossentropy', metrics=['accuracy'])\n",
        "  return model\n",
        "\n",
        "# Обучение модели с противоречивыми примерами\n",
        "def adversarial_training(model, train_images, train_labels, epsilon):\n",
        "  for epoch in range(5): # Короткое обучение для демонстрации\n",
        "    for i in range(0, len(train_images), 32):\n",
        "      batch_images = train_images[i:i+32]\n",
        "      batch_labels = train_labels[i:i+32]\n",
        "\n",
        "      # Генерация противоречивых примеров для текущей партии данных\n",
        "      adversarial_images = generate_adversarial_examples(model, batch_images, batch_labels, epsilon)\n",
        "\n",
        "      # Объединение оригинальных и противоречивых примеров\n",
        "      combined_images = np.concatenate([batch_images, adversarial_images], axis=0)\n",
        "      combined_labels = np.concatenate([batch_labels, batch_labels], axis=0)\n",
        "\n",
        "      # Обучение на комбинированных данных\n",
        "      model.train_on_batch(combined_images, combined_labels)\n",
        "\n",
        "# Инициализация модели\n",
        "model = create_model()\n",
        "\n",
        "# Тренировка модели с защитой на противоречивых примерах\n",
        "adversarial_training(model, train_images, train_labels, epsilon=0.1)\n",
        "\n",
        "# Сохранение защищенной модели\n",
        "model.save('adversarial_trained_model.h5')"
      ]
    },
    {
      "cell_type": "markdown",
      "source": [
        "### Шаг 2: Градиентная маскировка (Gradient Masking)\n",
        "Gradient Masking — это метод защиты, который затрудняет доступ к градиентам модели для атак. Он\n",
        "используется для уменьшения информации, доступной для атакующих, и усложнения поиска\n",
        "направленных изменений."
      ],
      "metadata": {
        "id": "arrqSBxlkiHu"
      }
    },
    {
      "cell_type": "code",
      "source": [
        "# Реализация градиентной маскировки\n",
        "# Для демонстрации мы можем использовать специальные функции активации\n",
        "import tensorflow as tf\n",
        "from tensorflow.keras.layers import Activation\n",
        "from tensorflow.keras.datasets import mnist\n",
        "from tensorflow.keras.utils import to_categorical\n",
        "\n",
        "# Обновление модели для градиентной маскировки\n",
        "def create_masked_model():\n",
        "  model = tf.keras.Sequential([\n",
        "    tf.keras.layers.Flatten(input_shape=(28, 28)),\n",
        "    tf.keras.layers.Dense(128, activation='relu'),\n",
        "    tf.keras.layers.Dense(10),\n",
        "    Activation('softplus') # Используем softplus вместо softmax для градиентной маскировки\n",
        "  ])\n",
        "  model.compile(optimizer='adam', loss='categorical_crossentropy',\n",
        "  metrics=['accuracy'])\n",
        "  return model\n",
        "\n",
        "# Обучение модели с градиентной маскировкой\n",
        "masked_model = create_masked_model()\n",
        "masked_model.fit(train_images, train_labels, epochs=5)\n",
        "\n",
        "# Сохранение модели с градиентной маскировкой\n",
        "masked_model.save('masked_model.h5')"
      ],
      "metadata": {
        "colab": {
          "base_uri": "https://localhost:8080/"
        },
        "id": "YzZXLP8yknCK",
        "outputId": "9ecb699e-826f-4f24-875e-425a619ef2ad"
      },
      "execution_count": 12,
      "outputs": [
        {
          "output_type": "stream",
          "name": "stdout",
          "text": [
            "Epoch 1/5\n",
            "\u001b[1m32/32\u001b[0m \u001b[32m━━━━━━━━━━━━━━━━━━━━\u001b[0m\u001b[37m\u001b[0m \u001b[1m1s\u001b[0m 5ms/step - accuracy: 0.3701 - loss: 1.9729\n",
            "Epoch 2/5\n",
            "\u001b[1m32/32\u001b[0m \u001b[32m━━━━━━━━━━━━━━━━━━━━\u001b[0m\u001b[37m\u001b[0m \u001b[1m0s\u001b[0m 6ms/step - accuracy: 0.8202 - loss: 0.8462\n",
            "Epoch 3/5\n",
            "\u001b[1m32/32\u001b[0m \u001b[32m━━━━━━━━━━━━━━━━━━━━\u001b[0m\u001b[37m\u001b[0m \u001b[1m0s\u001b[0m 7ms/step - accuracy: 0.8783 - loss: 0.4953\n",
            "Epoch 4/5\n",
            "\u001b[1m32/32\u001b[0m \u001b[32m━━━━━━━━━━━━━━━━━━━━\u001b[0m\u001b[37m\u001b[0m \u001b[1m0s\u001b[0m 6ms/step - accuracy: 0.9203 - loss: 0.3440\n",
            "Epoch 5/5\n",
            "\u001b[1m32/32\u001b[0m \u001b[32m━━━━━━━━━━━━━━━━━━━━\u001b[0m\u001b[37m\u001b[0m \u001b[1m0s\u001b[0m 6ms/step - accuracy: 0.9425 - loss: 0.2664\n"
          ]
        },
        {
          "output_type": "stream",
          "name": "stderr",
          "text": [
            "WARNING:absl:You are saving your model as an HDF5 file via `model.save()` or `keras.saving.save_model(model)`. This file format is considered legacy. We recommend using instead the native Keras format, e.g. `model.save('my_model.keras')` or `keras.saving.save_model(model, 'my_model.keras')`. \n"
          ]
        }
      ]
    },
    {
      "cell_type": "markdown",
      "source": [
        "### Шаг 3: Регуляризация и нормализация для повышения устойчивости\n",
        "Использование таких методов, как L2-регуляризация, дропаут и нормализация батчей, может помочь\n",
        "улучшить устойчивость модели к атакам."
      ],
      "metadata": {
        "id": "EReandNzkymz"
      }
    },
    {
      "cell_type": "code",
      "source": [
        "# Модель с регуляризацией и нормализацией\n",
        "def create_regularized_model():\n",
        "  model = tf.keras.Sequential([\n",
        "    tf.keras.layers.Flatten(input_shape=(28, 28)),\n",
        "    tf.keras.layers.Dense(128, activation='relu',\n",
        "    kernel_regularizer=tf.keras.regularizers.l2(0.01)),\n",
        "    tf.keras.layers.Dropout(0.5),\n",
        "    tf.keras.layers.BatchNormalization(),\n",
        "    tf.keras.layers.Dense(10, activation='softmax')\n",
        "  ])\n",
        "  model.compile(optimizer='adam', loss='categorical_crossentropy',\n",
        "  metrics=['accuracy'])\n",
        "  return model\n",
        "\n",
        "# Обучение модели с регуляризацией и нормализацией\n",
        "regularized_model = create_regularized_model()\n",
        "regularized_model.fit(train_images, train_labels, epochs=5)\n",
        "\n",
        "# Сохранение модели с регуляризацией\n",
        "regularized_model.save('regularized_model.h5')"
      ],
      "metadata": {
        "colab": {
          "base_uri": "https://localhost:8080/"
        },
        "id": "4bM-NnjUk11e",
        "outputId": "46ad0e2a-7431-41cb-98c1-0edc046766b6"
      },
      "execution_count": 13,
      "outputs": [
        {
          "output_type": "stream",
          "name": "stdout",
          "text": [
            "Epoch 1/5\n",
            "\u001b[1m32/32\u001b[0m \u001b[32m━━━━━━━━━━━━━━━━━━━━\u001b[0m\u001b[37m\u001b[0m \u001b[1m2s\u001b[0m 4ms/step - accuracy: 0.2498 - loss: 4.2306\n",
            "Epoch 2/5\n",
            "\u001b[1m32/32\u001b[0m \u001b[32m━━━━━━━━━━━━━━━━━━━━\u001b[0m\u001b[37m\u001b[0m \u001b[1m0s\u001b[0m 4ms/step - accuracy: 0.7030 - loss: 2.2155\n",
            "Epoch 3/5\n",
            "\u001b[1m32/32\u001b[0m \u001b[32m━━━━━━━━━━━━━━━━━━━━\u001b[0m\u001b[37m\u001b[0m \u001b[1m0s\u001b[0m 4ms/step - accuracy: 0.8007 - loss: 1.7290\n",
            "Epoch 4/5\n",
            "\u001b[1m32/32\u001b[0m \u001b[32m━━━━━━━━━━━━━━━━━━━━\u001b[0m\u001b[37m\u001b[0m \u001b[1m0s\u001b[0m 4ms/step - accuracy: 0.8647 - loss: 1.4396\n",
            "Epoch 5/5\n",
            "\u001b[1m32/32\u001b[0m \u001b[32m━━━━━━━━━━━━━━━━━━━━\u001b[0m\u001b[37m\u001b[0m \u001b[1m0s\u001b[0m 4ms/step - accuracy: 0.8554 - loss: 1.3311\n"
          ]
        },
        {
          "output_type": "stream",
          "name": "stderr",
          "text": [
            "WARNING:absl:You are saving your model as an HDF5 file via `model.save()` or `keras.saving.save_model(model)`. This file format is considered legacy. We recommend using instead the native Keras format, e.g. `model.save('my_model.keras')` or `keras.saving.save_model(model, 'my_model.keras')`. \n"
          ]
        }
      ]
    },
    {
      "cell_type": "markdown",
      "source": [
        "### Шаг 4: Оценка моделей на противоречивых примерах\n",
        "Теперь проверим эффективность всех защитных методов на атакованных данных, созданных с\n",
        "помощью FGSM и других методов, таких как PGD или GAN."
      ],
      "metadata": {
        "id": "B2UI8diNlHSm"
      }
    },
    {
      "cell_type": "code",
      "source": [
        "# Загрузка моделей:\n",
        "models = {\n",
        "    'Protected_Model': tf.keras.models.load_model('adversarial_trained_model.h5'),\n",
        "    'Regularized_Model': tf.keras.models.load_model('regularized_model.h5'),\n",
        "    'Masked_Model': tf.keras.models.load_model('masked_model.h5')\n",
        "}\n",
        "\n",
        "# Генерация противоречивых примеров\n",
        "adversarial_test_images = generate_adversarial_examples(models['Protected_Model'], test_images, test_labels, epsilon=0.1)\n",
        "\n",
        "# Оценка моделей на противоречивых примерах\n",
        "for model_name, model in models.items():\n",
        "    test_loss, test_acc = model.evaluate(adversarial_test_images, test_labels)\n",
        "    print(f'Accuracy of {model_name} model on adversarial examples: {test_acc}')"
      ],
      "metadata": {
        "colab": {
          "base_uri": "https://localhost:8080/"
        },
        "id": "6GwYUmPxlJP3",
        "outputId": "fc8ca952-36fc-4d08-f79b-9f6edd38e416"
      },
      "execution_count": 14,
      "outputs": [
        {
          "output_type": "stream",
          "name": "stderr",
          "text": [
            "WARNING:absl:Compiled the loaded model, but the compiled metrics have yet to be built. `model.compile_metrics` will be empty until you train or evaluate the model.\n",
            "WARNING:absl:Compiled the loaded model, but the compiled metrics have yet to be built. `model.compile_metrics` will be empty until you train or evaluate the model.\n",
            "WARNING:absl:Compiled the loaded model, but the compiled metrics have yet to be built. `model.compile_metrics` will be empty until you train or evaluate the model.\n"
          ]
        },
        {
          "output_type": "stream",
          "name": "stdout",
          "text": [
            "\u001b[1m313/313\u001b[0m \u001b[32m━━━━━━━━━━━━━━━━━━━━\u001b[0m\u001b[37m\u001b[0m \u001b[1m1s\u001b[0m 3ms/step - accuracy: 0.5089 - loss: 1.4444\n",
            "Accuracy of Protected_Model model on adversarial examples: 0.5641999840736389\n",
            "\u001b[1m313/313\u001b[0m \u001b[32m━━━━━━━━━━━━━━━━━━━━\u001b[0m\u001b[37m\u001b[0m \u001b[1m2s\u001b[0m 4ms/step - accuracy: 0.5591 - loss: 2.2275\n",
            "Accuracy of Regularized_Model model on adversarial examples: 0.6050999760627747\n",
            "\u001b[1m313/313\u001b[0m \u001b[32m━━━━━━━━━━━━━━━━━━━━\u001b[0m\u001b[37m\u001b[0m \u001b[1m1s\u001b[0m 2ms/step - accuracy: 0.4385 - loss: 1.7130\n",
            "Accuracy of Masked_Model model on adversarial examples: 0.487199991941452\n"
          ]
        }
      ]
    },
    {
      "cell_type": "markdown",
      "source": [
        "### Вывод:\n",
        "\n",
        "В ходе исследования протестировали различные подходы к защите моделей от атак на основе противоречивых примеров. Для генерации атак использовалась методика FGSM, а в качестве защитных мер применялись градиентная маскировка и метод, основанный на регуляризации и нормализации. Обучение проводилось на данных, включавших как оригинальные изображения, так и сгенерированные противоречивые примеры.\n",
        "\n",
        "Результаты тестирования показали следующую точность на противоречивых примерах:\n",
        "1. Protected_Model: точность 56.42% (accuracy: 0.5642).\n",
        "2. Regularized_Model: точность 60.51% (accuracy: 0.6051).\n",
        "3. Masked_Model: точность 48.72% (accuracy: 0.4872).\n",
        "\n",
        "Метод регуляризации оказался наиболее эффективным, продемонстрировав наилучшую точность."
      ],
      "metadata": {
        "id": "Lgl_OgeQoALw"
      }
    }
  ]
}