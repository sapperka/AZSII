{
  "nbformat": 4,
  "nbformat_minor": 0,
  "metadata": {
    "colab": {
      "provenance": [],
      "authorship_tag": "ABX9TyNYM/2aZUm0jgJZEif/OD6e",
      "include_colab_link": true
    },
    "kernelspec": {
      "name": "python3",
      "display_name": "Python 3"
    },
    "language_info": {
      "name": "python"
    }
  },
  "cells": [
    {
      "cell_type": "markdown",
      "metadata": {
        "id": "view-in-github",
        "colab_type": "text"
      },
      "source": [
        "<a href=\"https://colab.research.google.com/github/sapperka/AZSII/blob/main/%D0%90%D0%97%D0%A1%D0%98%D0%98_%D0%91%D0%91%D0%9C%D0%9E_02_23_%D0%A0%D1%8B%D0%B1%D0%B0%D0%BA%D0%BE%D0%B2_%D0%9F%D0%A03.ipynb\" target=\"_parent\"><img src=\"https://colab.research.google.com/assets/colab-badge.svg\" alt=\"Open In Colab\"/></a>"
      ]
    },
    {
      "cell_type": "markdown",
      "source": [
        "# АЗСИИ\n",
        "\n",
        "# Практика 3: Атака Carlini-Wagner (CW) на модели ИИ\n",
        "\n",
        "Группа: ББМО-02-23\n",
        "\n",
        "Студент: Рыбаков Владислав Андреевич"
      ],
      "metadata": {
        "id": "SXTF7C2sElDn"
      }
    },
    {
      "cell_type": "markdown",
      "source": [
        "## Цель задания:\n",
        "Изучить одну из наиболее мощных атак на модели ИИ — атаку Carlini-Wagner (CW).  \n",
        "Задача — научиться использовать CW для создания противоречивых примеров и исследовать влияние этой атаки на обученные модели."
      ],
      "metadata": {
        "id": "kEN3BbtWEtIC"
      }
    },
    {
      "cell_type": "markdown",
      "source": [
        "## Задачи:\n",
        "1. Загрузить ранее обученную модель на датасете MNIST.\n",
        "2. Изучить теоретические основы атаки Carlini-Wagner.\n",
        "3. Реализовать атаку CW с помощью фреймворка Foolbox.\n",
        "4. Оценить точность модели на противоречивых примерах и сравнить с результатами на обычных данных."
      ],
      "metadata": {
        "id": "CK0ID-FkE6w5"
      }
    },
    {
      "cell_type": "markdown",
      "source": [
        "## Шаги выполнения:"
      ],
      "metadata": {
        "id": "mnioxpgCFBQy"
      }
    },
    {
      "cell_type": "markdown",
      "source": [
        "### Шаг 1: Загрузка обученной модели и данных MNIST"
      ],
      "metadata": {
        "id": "F7LTA0bqFFC3"
      }
    },
    {
      "cell_type": "code",
      "execution_count": 2,
      "metadata": {
        "colab": {
          "base_uri": "https://localhost:8080/"
        },
        "id": "Yft9t5XgEkeI",
        "outputId": "5932223a-206b-440d-9b0b-598efa0a5e29"
      },
      "outputs": [
        {
          "output_type": "stream",
          "name": "stderr",
          "text": [
            "WARNING:absl:Compiled the loaded model, but the compiled metrics have yet to be built. `model.compile_metrics` will be empty until you train or evaluate the model.\n"
          ]
        },
        {
          "output_type": "stream",
          "name": "stdout",
          "text": [
            "\u001b[1m313/313\u001b[0m \u001b[32m━━━━━━━━━━━━━━━━━━━━\u001b[0m\u001b[37m\u001b[0m \u001b[1m1s\u001b[0m 1ms/step - accuracy: 0.9740 - loss: 0.0876\n",
            "Test accuracy on clean images: 0.9768999814987183\n"
          ]
        }
      ],
      "source": [
        "import tensorflow as tf\n",
        "from tensorflow.keras.datasets import mnist\n",
        "from tensorflow.keras.utils import to_categorical\n",
        "\n",
        "# Загрузка тестовых данных MNIST\n",
        "(_, _), (test_images, test_labels) = mnist.load_data()\n",
        "\n",
        "# Нормализация данных\n",
        "test_images = test_images / 255.0\n",
        "test_labels = to_categorical(test_labels, num_classes=10)\n",
        "\n",
        "# Загрузка обученной модели\n",
        "model = tf.keras.models.load_model('mnist_model.h5')\n",
        "\n",
        "# Проверка точности модели на обычных данных\n",
        "test_loss, test_acc = model.evaluate(test_images, test_labels)\n",
        "print(f'Test accuracy on clean images: {test_acc}')"
      ]
    },
    {
      "cell_type": "markdown",
      "source": [
        "### Шаг 2: Теория Carlini-Wagner Attack\n",
        "\n",
        "Атака Carlini-Wagner (CW) — это одна из наиболее эффективных атак, созданных для введения\n",
        "моделей в заблуждение. В отличие от FGSM, CW использует оптимизационный подход для создания\n",
        "минимальных изменений в изображении, которые приводят к ошибке в классификации модели.\n",
        "\n",
        "Цель атаки — найти минимальные изменения в изображении, которые переводят его в другую\n",
        "категорию, оставаясь при этом визуально неотличимыми от оригинала.\n",
        "\n",
        "Атака CW может быть настроена по нескольким параметрам, например, для минимизации L2, L0 или\n",
        "L∞ норм, что определяет, как именно модифицируется изображение."
      ],
      "metadata": {
        "id": "SVYgcoOvGHA4"
      }
    },
    {
      "cell_type": "markdown",
      "source": [
        "### Шаг 3: Установка Foolbox и запуск CW-атаки\n",
        "\n"
      ],
      "metadata": {
        "id": "XSvB5oT2GYJ-"
      }
    },
    {
      "cell_type": "markdown",
      "source": [
        "Для реализации атаки Carlini-Wagner будем использовать фреймворк Foolbox, который\n",
        "предоставляет удобные методы для выполнения различных атак на модели ИИ."
      ],
      "metadata": {
        "id": "VN2q-ziBGdxY"
      }
    },
    {
      "cell_type": "code",
      "source": [
        "!pip install foolbox"
      ],
      "metadata": {
        "colab": {
          "base_uri": "https://localhost:8080/"
        },
        "id": "zRzXqfF8GfLI",
        "outputId": "d23b2eac-377b-43cc-b88e-0d9e515003ac"
      },
      "execution_count": 3,
      "outputs": [
        {
          "output_type": "stream",
          "name": "stdout",
          "text": [
            "Requirement already satisfied: foolbox in /usr/local/lib/python3.10/dist-packages (3.3.4)\n",
            "Requirement already satisfied: numpy in /usr/local/lib/python3.10/dist-packages (from foolbox) (1.26.4)\n",
            "Requirement already satisfied: scipy in /usr/local/lib/python3.10/dist-packages (from foolbox) (1.13.1)\n",
            "Requirement already satisfied: setuptools in /usr/local/lib/python3.10/dist-packages (from foolbox) (71.0.4)\n",
            "Requirement already satisfied: eagerpy>=0.30.0 in /usr/local/lib/python3.10/dist-packages (from foolbox) (0.30.0)\n",
            "Requirement already satisfied: GitPython>=3.0.7 in /usr/local/lib/python3.10/dist-packages (from foolbox) (3.1.43)\n",
            "Requirement already satisfied: typing-extensions>=3.7.4.1 in /usr/local/lib/python3.10/dist-packages (from foolbox) (4.12.2)\n",
            "Requirement already satisfied: requests>=2.24.0 in /usr/local/lib/python3.10/dist-packages (from foolbox) (2.32.3)\n",
            "Requirement already satisfied: gitdb<5,>=4.0.1 in /usr/local/lib/python3.10/dist-packages (from GitPython>=3.0.7->foolbox) (4.0.11)\n",
            "Requirement already satisfied: charset-normalizer<4,>=2 in /usr/local/lib/python3.10/dist-packages (from requests>=2.24.0->foolbox) (3.3.2)\n",
            "Requirement already satisfied: idna<4,>=2.5 in /usr/local/lib/python3.10/dist-packages (from requests>=2.24.0->foolbox) (3.10)\n",
            "Requirement already satisfied: urllib3<3,>=1.21.1 in /usr/local/lib/python3.10/dist-packages (from requests>=2.24.0->foolbox) (2.2.3)\n",
            "Requirement already satisfied: certifi>=2017.4.17 in /usr/local/lib/python3.10/dist-packages (from requests>=2.24.0->foolbox) (2024.8.30)\n",
            "Requirement already satisfied: smmap<6,>=3.0.1 in /usr/local/lib/python3.10/dist-packages (from gitdb<5,>=4.0.1->GitPython>=3.0.7->foolbox) (5.0.1)\n"
          ]
        }
      ]
    },
    {
      "cell_type": "markdown",
      "source": [
        "Реализация атаки Carlini-Wagner:"
      ],
      "metadata": {
        "id": "BMDFCoSBGh_E"
      }
    },
    {
      "cell_type": "code",
      "source": [
        "import foolbox as fb\n",
        "import numpy as np\n",
        "import tensorflow as tf\n",
        "import matplotlib.pyplot as plt\n",
        "\n",
        "# Инициализация Foolbox модели\n",
        "fmodel = fb.TensorFlowModel(model, bounds=(0, 1))\n",
        "\n",
        "# Выбор изображения для атаки\n",
        "image = tf.convert_to_tensor(test_images[22], dtype=tf.float32)[None, ...]  # Добавляем размерность для батча\n",
        "label = np.argmax(test_labels[0])  # Получаем индекс класса\n",
        "label = tf.convert_to_tensor(label, dtype=tf.int64)  # Преобразуем в тензор\n",
        "\n",
        "# Создание атаки Carlini-Wagner\n",
        "attack = fb.attacks.L2CarliniWagnerAttack(steps=5)\n",
        "\n",
        "# Выполнение атаки\n",
        "adversarial_image, _, success = attack(fmodel, image, label[None], epsilons=0.01)\n",
        "\n",
        "# Вывод результатов\n",
        "plt.figure()\n",
        "plt.subplot(1, 2, 1)\n",
        "plt.title(\"Оригинальное изображение\")\n",
        "plt.imshow(image[0].numpy(), cmap=\"gray\")\n",
        "plt.axis('off')\n",
        "plt.subplot(1, 2, 2)\n",
        "plt.title(\"CW Attack\")\n",
        "plt.imshow(adversarial_image[0].numpy(), cmap=\"gray\")\n",
        "plt.axis('off')\n",
        "plt.show()"
      ],
      "metadata": {
        "colab": {
          "base_uri": "https://localhost:8080/",
          "height": 340
        },
        "id": "EvaWU_tnGjmq",
        "outputId": "8c5b12f2-77ae-4894-9a83-5cbbd2671096"
      },
      "execution_count": 4,
      "outputs": [
        {
          "output_type": "stream",
          "name": "stderr",
          "text": [
            "WARNING:tensorflow:From /usr/local/lib/python3.10/dist-packages/foolbox/models/tensorflow.py:13: is_gpu_available (from tensorflow.python.framework.test_util) is deprecated and will be removed in a future version.\n",
            "Instructions for updating:\n",
            "Use `tf.config.list_physical_devices('GPU')` instead.\n"
          ]
        },
        {
          "output_type": "display_data",
          "data": {
            "text/plain": [
              "<Figure size 640x480 with 2 Axes>"
            ],
            "image/png": "[encoded data removed]"
          },
          "metadata": {}
        }
      ]
    },
    {
      "cell_type": "markdown",
      "source": [
        "### Шаг 4: Оценка модели на противоречивых примерах\n",
        "После того, как мы сгенерировали противоречивые примеры, мы можем оценить, насколько атака\n",
        "Carlini-Wagner влияет на производительность модели."
      ],
      "metadata": {
        "id": "ZDTsET6JLDk0"
      }
    },
    {
      "cell_type": "code",
      "source": [
        "# Создание набора противоречивых примеров для всего тестового набора\n",
        "\n",
        "adversarial_images = []\n",
        "for i in range(len(test_images)):\n",
        "    image = tf.convert_to_tensor(test_images[i], dtype=tf.float32)[None, ...]\n",
        "    label = np.argmax(test_labels[i])\n",
        "    label = tf.convert_to_tensor(label, dtype=tf.int64)\n",
        "    advs, _, success = attack(fmodel, image, label[None], epsilons=0.01)\n",
        "    adversarial_images.append(advs)\n",
        "\n",
        "adversarial_images = tf.concat(adversarial_images, axis=0)\n",
        "\n",
        "adversarial_loss, adversarial_acc = model.evaluate(adversarial_images, test_labels)\n",
        "print(f'Accuracy on adversarial examples (CW attack): {adversarial_acc}')"
      ],
      "metadata": {
        "colab": {
          "base_uri": "https://localhost:8080/"
        },
        "id": "UZcW-8PJLMPi",
        "outputId": "cf7acda6-586f-404b-f7ba-5eb3f0ddf54e"
      },
      "execution_count": 5,
      "outputs": [
        {
          "output_type": "stream",
          "name": "stdout",
          "text": [
            "\u001b[1m313/313\u001b[0m \u001b[32m━━━━━━━━━━━━━━━━━━━━\u001b[0m\u001b[37m\u001b[0m \u001b[1m0s\u001b[0m 1ms/step - accuracy: 0.0887 - loss: 2.4739\n",
            "Accuracy on adversarial examples (CW attack): 0.0869000032544136\n"
          ]
        }
      ]
    },
    {
      "cell_type": "markdown",
      "source": [
        "### Вывод:\n",
        "Резкое снижение точности модели на атакованных примерах до 8,7% по сравнению с оригинальными данными указывает на её уязвимость к небольшим, но целенаправленным искажениям. Это подчеркивает необходимость разработки более устойчивых моделей и внедрения защитных методов для повышения их надежности в реальных условиях."
      ],
      "metadata": {
        "id": "8Indybkk2JuC"
      }
    }
  ]
}